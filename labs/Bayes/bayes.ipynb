{
 "cells": [
  {
   "cell_type": "code",
   "execution_count": 430,
   "metadata": {
    "collapsed": true
   },
   "outputs": [],
   "source": [
    "from os import listdir\n",
    "from os.path import isfile, join\n",
    "from sklearn.metrics import accuracy_score, roc_curve, confusion_matrix\n",
    "import math\n",
    "\n",
    "%matplotlib inline\n",
    "import matplotlib.pyplot as plt\n"
   ]
  },
  {
   "cell_type": "code",
   "execution_count": 431,
   "outputs": [],
   "source": [
    "root_path = './data/messages'\n"
   ],
   "metadata": {
    "collapsed": false,
    "pycharm": {
     "name": "#%%\n"
    }
   }
  },
  {
   "cell_type": "code",
   "execution_count": 432,
   "outputs": [],
   "source": [
    "def get_n_grams_from_message(path, ngrams):\n",
    "    result = set()\n",
    "    with open(path) as f:\n",
    "        subject = f.readline().split()[1:]\n",
    "        f.readline()\n",
    "        message = f.readline().split()\n",
    "        for i in range(len(subject) + 1 - ngrams):\n",
    "            result.add(' '.join(subject[i:i+ngrams]))\n",
    "        for i in range(len(message) + 1 - ngrams):\n",
    "            result.add(' '.join(message[i:i+ngrams]))\n",
    "    return result\n"
   ],
   "metadata": {
    "collapsed": false,
    "pycharm": {
     "name": "#%%\n"
    }
   }
  },
  {
   "cell_type": "code",
   "execution_count": 433,
   "outputs": [],
   "source": [
    "def get_files_from_dir(path):\n",
    "    return [f for f in listdir(path) if isfile(join(path, f))]\n"
   ],
   "metadata": {
    "collapsed": false,
    "pycharm": {
     "name": "#%%\n"
    }
   }
  },
  {
   "cell_type": "code",
   "execution_count": 434,
   "outputs": [],
   "source": [
    "flatten = lambda t: [item for sublist in t for item in sublist]\n"
   ],
   "metadata": {
    "collapsed": false,
    "pycharm": {
     "name": "#%%\n"
    }
   }
  },
  {
   "cell_type": "code",
   "execution_count": 435,
   "outputs": [],
   "source": [
    "def bayes(X, Y, alpha, lambda_legit, lambda_spam):\n",
    "    wordToClass = dict()\n",
    "\n",
    "    for i in range(len(X)):\n",
    "        for word in X[i]:\n",
    "            if wordToClass.get(word) is None:\n",
    "                wordToClass[word] = [0, 0]\n",
    "            wordToClass[word][Y[i]] += 1\n",
    "\n",
    "\n",
    "    total_messages_count = len(Y)\n",
    "    spam_message_count = sum(Y)\n",
    "\n",
    "    k = 2\n",
    "    class_count = [total_messages_count - spam_message_count, spam_message_count]\n",
    "    lam = [lambda_spam, lambda_legit]\n",
    "\n",
    "    precalc = [0.0] * k\n",
    "\n",
    "    for i in range(k):\n",
    "        if class_count[i] != 0:\n",
    "            precalc[i] = math.log(1.0 * class_count[i] * lam[i] / total_messages_count)\n",
    "\n",
    "    for w in set(wordToClass.keys()):\n",
    "        st = wordToClass[w]\n",
    "        for i in range(k):\n",
    "            if class_count[i] != 0:\n",
    "                precalc[i] += math.log(1 - (st[i] + alpha) / (class_count[i] + 2 * alpha))\n",
    "\n",
    "    def predict(words):\n",
    "        cr = precalc.copy()\n",
    "\n",
    "        for w in words:\n",
    "            for i in range(k):\n",
    "                if class_count[i] != 0:\n",
    "                    if wordToClass.get(w) is not None:\n",
    "                        st = wordToClass[w]\n",
    "                        pr = (st[i] + alpha) / (class_count[i] + 2 * alpha)\n",
    "                        cr[i] += math.log(pr) - math.log(1 - pr)\n",
    "\n",
    "        cr = [math.e ** (x - max(cr)) for x in cr]\n",
    "        probability_of_legit = cr[1] / (cr[0] + cr[1])\n",
    "\n",
    "        return probability_of_legit >= 0.5, probability_of_legit\n",
    "\n",
    "    return predict\n"
   ],
   "metadata": {
    "collapsed": false,
    "pycharm": {
     "name": "#%%\n"
    }
   }
  },
  {
   "cell_type": "code",
   "execution_count": 436,
   "outputs": [],
   "source": [
    "def read_folder(i, ngrams):\n",
    "    X = []\n",
    "    Y = []\n",
    "\n",
    "    path = root_path + f'/part{i}'\n",
    "    all_files = get_files_from_dir(path)\n",
    "\n",
    "    for file in all_files:\n",
    "        full_file_name = join(path, file)\n",
    "        messages = get_n_grams_from_message(full_file_name, ngrams)\n",
    "        X.append(messages)\n",
    "\n",
    "        is_legit = 0 if 'spmsg' in file else 1\n",
    "        Y.append(is_legit)\n",
    "\n",
    "    return X, Y\n"
   ],
   "metadata": {
    "collapsed": false,
    "pycharm": {
     "name": "#%%\n"
    }
   }
  },
  {
   "cell_type": "code",
   "execution_count": 437,
   "outputs": [],
   "source": [
    "def plot_roc_curve(Y_real, Y_probabilities):\n",
    "    fpr, tpr, thresholds = roc_curve(Y_real, Y_probabilities)\n",
    "\n",
    "    plt.plot(fpr, tpr, linewidth=2)\n",
    "    plt.plot([0, 1], [0, 1], 'k--') # dashed diagonal\n",
    "    plt.xlabel('False Positive Rate, FPR (1 - specificity)')\n",
    "    plt.ylabel('True Positive Rate, TPR (Recall)')\n",
    "    plt.title('ROC curve')\n",
    "    # plt.savefig(\"ROC.png\")\n",
    "    plt.show()\n"
   ],
   "metadata": {
    "collapsed": false,
    "pycharm": {
     "name": "#%%\n"
    }
   }
  },
  {
   "cell_type": "code",
   "execution_count": 438,
   "outputs": [],
   "source": [
    "def processing_inner(ngrams, alpha, lambda_legit, lambda_spam):\n",
    "    X_fold = []\n",
    "    Y_fold = []\n",
    "\n",
    "    for i in range(1, 11):\n",
    "        X, Y = read_folder(i, ngrams)\n",
    "        X_fold.append(X)\n",
    "        Y_fold.append(Y)\n",
    "\n",
    "    Y_predicted = []\n",
    "    Y_probabilities = []\n",
    "    Y_test_all = flatten(Y_fold)\n",
    "\n",
    "    for test_index in range(10):\n",
    "        train_indexes = set(range(10))\n",
    "        train_indexes.remove(test_index)\n",
    "\n",
    "        X = flatten([X_fold[i] for i in train_indexes])\n",
    "        Y = flatten([Y_fold[i] for i in train_indexes])\n",
    "\n",
    "        X_test, Y_test = X_fold[test_index], Y_fold[test_index]\n",
    "\n",
    "        model = bayes(X, Y, alpha, lambda_legit, lambda_spam)\n",
    "\n",
    "        for test in X_test:\n",
    "            predicted, probabilities = model(test)\n",
    "            Y_predicted.append(predicted)\n",
    "            Y_probabilities.append(probabilities)\n",
    "\n",
    "    return Y_test_all, Y_predicted, Y_probabilities\n"
   ],
   "metadata": {
    "collapsed": false,
    "pycharm": {
     "name": "#%%\n"
    }
   }
  },
  {
   "cell_type": "code",
   "execution_count": 439,
   "outputs": [],
   "source": [
    "def processing_accuracy_roc(ngrams, alpha, lambda_legit, lambda_spam):\n",
    "    Y_test_all, Y_predicted, Y_probabilities = processing_inner(ngrams, alpha, lambda_legit, lambda_spam)\n",
    "\n",
    "    accuracy = accuracy_score(Y_test_all, Y_predicted)\n",
    "\n",
    "    print('accuracy:', accuracy)\n",
    "\n",
    "    plot_roc_curve(Y_test_all, Y_probabilities)\n"
   ],
   "metadata": {
    "collapsed": false,
    "pycharm": {
     "name": "#%%\n"
    }
   }
  },
  {
   "cell_type": "code",
   "execution_count": 440,
   "outputs": [],
   "source": [
    "def processing_confusion_matrix(ngrams, alpha, lambda_legit, lambda_spam):\n",
    "    Y_test_all, Y_predicted, Y_probabilities = processing_inner(ngrams, alpha, lambda_legit, lambda_spam)\n",
    "\n",
    "    accuracy = accuracy_score(Y_test_all, Y_predicted)\n",
    "\n",
    "    cmatrix = confusion_matrix(Y_test_all, Y_predicted)\n",
    "\n",
    "    print(cmatrix)\n",
    "\n",
    "    print('accuracy:', accuracy)\n"
   ],
   "metadata": {
    "collapsed": false,
    "pycharm": {
     "name": "#%%\n"
    }
   }
  },
  {
   "cell_type": "code",
   "execution_count": 441,
   "outputs": [
    {
     "name": "stdout",
     "output_type": "stream",
     "text": [
      "accuracy: 0.9788990825688073\n"
     ]
    },
    {
     "data": {
      "text/plain": "<Figure size 432x288 with 1 Axes>",
      "image/png": "[encoded data removed]"
     },
     "metadata": {},
     "output_type": "display_data"
    }
   ],
   "source": [
    "processing_accuracy_roc(\n",
    "    ngrams=1,\n",
    "    alpha=0.00001,\n",
    "    lambda_legit=0.00001,\n",
    "    lambda_spam=100,\n",
    ")\n"
   ],
   "metadata": {
    "collapsed": false,
    "pycharm": {
     "name": "#%%\n"
    }
   }
  },
  {
   "cell_type": "code",
   "execution_count": 442,
   "outputs": [
    {
     "name": "stdout",
     "output_type": "stream",
     "text": [
      "[[311 169]\n",
      " [  0 610]]\n",
      "accuracy: 0.844954128440367\n"
     ]
    }
   ],
   "source": [
    "processing_confusion_matrix(\n",
    "    ngrams=3,\n",
    "    alpha=0.1,\n",
    "    lambda_legit=1,\n",
    "    lambda_spam=1\n",
    ")\n"
   ],
   "metadata": {
    "collapsed": false,
    "pycharm": {
     "name": "#%%\n"
    }
   }
  },
  {
   "cell_type": "code",
   "execution_count": 444,
   "outputs": [],
   "source": [
    "accuracy_array = []\n",
    "\n",
    "for i in range(-6, 1):\n",
    "    Y_test_all, Y_predicted, Y_probabilities = processing_inner(\n",
    "        ngrams=3,\n",
    "        alpha=0.1,\n",
    "        lambda_legit=10 ** i,\n",
    "        lambda_spam=1\n",
    "    )\n",
    "\n",
    "    accuracy_array.append(accuracy_score(Y_test_all, Y_predicted))\n"
   ],
   "metadata": {
    "collapsed": false,
    "pycharm": {
     "name": "#%%\n"
    }
   }
  },
  {
   "cell_type": "code",
   "execution_count": 445,
   "outputs": [
    {
     "data": {
      "text/plain": "<Figure size 432x288 with 1 Axes>",
      "image/png": "[encoded data removed]"
     },
     "metadata": {},
     "output_type": "display_data"
    }
   ],
   "source": [
    "plt.plot(list(range(-6, 1)), accuracy_array, marker='o')\n",
    "plt.show()"
   ],
   "metadata": {
    "collapsed": false,
    "pycharm": {
     "name": "#%%\n"
    }
   }
  },
  {
   "cell_type": "code",
   "execution_count": 446,
   "outputs": [],
   "source": [
    "# processing_no_spam(\n",
    "#     ngrams=3,\n",
    "#     alpha=0.001,\n",
    "#     lambda_legit=1000000,\n",
    "#     lambda_spam=0.000001\n",
    "# )\n"
   ],
   "metadata": {
    "collapsed": false,
    "pycharm": {
     "name": "#%%\n"
    }
   }
  },
  {
   "cell_type": "code",
   "execution_count": 447,
   "outputs": [],
   "source": [
    "# processing_no_spam(\n",
    "#     ngrams=1,\n",
    "#     alpha=0.1,\n",
    "#     lambda_legit=1000000000000,\n",
    "#     lambda_spam=0.000000000001\n",
    "# )\n"
   ],
   "metadata": {
    "collapsed": false,
    "pycharm": {
     "name": "#%%\n"
    }
   }
  }
 ],
 "metadata": {
  "kernelspec": {
   "display_name": "Python 3",
   "language": "python",
   "name": "python3"
  },
  "language_info": {
   "codemirror_mode": {
    "name": "ipython",
    "version": 2
   },
   "file_extension": ".py",
   "mimetype": "text/x-python",
   "name": "python",
   "nbconvert_exporter": "python",
   "pygments_lexer": "ipython2",
   "version": "2.7.6"
  }
 },
 "nbformat": 4,
 "nbformat_minor": 0
}