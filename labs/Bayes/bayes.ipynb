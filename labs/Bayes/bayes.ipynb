{
 "cells": [
  {
   "cell_type": "code",
   "execution_count": 168,
   "metadata": {
    "collapsed": true
   },
   "outputs": [],
   "source": [
    "from os import listdir\n",
    "from os.path import isfile, join\n",
    "import math"
   ]
  },
  {
   "cell_type": "code",
   "execution_count": 169,
   "outputs": [],
   "source": [
    "alpha = 0.005\n",
    "lmbd_legit = 1\n",
    "lmbd_spm = 100\n",
    "ngrams = 3"
   ],
   "metadata": {
    "collapsed": false,
    "pycharm": {
     "name": "#%%\n"
    }
   }
  },
  {
   "cell_type": "code",
   "execution_count": 170,
   "outputs": [],
   "source": [
    "wordToClass = dict()\n",
    "\n",
    "totalMessagesCount = 0\n",
    "spmMessageCount = 0\n"
   ],
   "metadata": {
    "collapsed": false,
    "pycharm": {
     "name": "#%%\n"
    }
   }
  },
  {
   "cell_type": "code",
   "execution_count": 171,
   "outputs": [],
   "source": [
    "def read_message(path):\n",
    "    result = set()\n",
    "    with open(path) as f:\n",
    "        subject = f.readline().split()[1:]\n",
    "        f.readline()\n",
    "        message = f.readline().split()\n",
    "        for i in range(len(subject) + 1 - ngrams):\n",
    "            result.add(' '.join(subject[i:i+ngrams]))\n",
    "        for i in range(len(message) + 1 - ngrams):\n",
    "            result.add(' '.join(message[i:i+ngrams]))\n",
    "        # result.update(subject)\n",
    "        # result.update(message)\n",
    "    return result"
   ],
   "metadata": {
    "collapsed": false,
    "pycharm": {
     "name": "#%%\n"
    }
   }
  },
  {
   "cell_type": "code",
   "execution_count": 172,
   "outputs": [],
   "source": [
    "def get_files_from_dir(path):\n",
    "    return [f for f in listdir(path) if isfile(join(path, f))]"
   ],
   "metadata": {
    "collapsed": false,
    "pycharm": {
     "name": "#%%\n"
    }
   }
  },
  {
   "cell_type": "code",
   "execution_count": 173,
   "outputs": [],
   "source": [
    "# read_message('./data/messages/part1/121spmsg62.txt')"
   ],
   "metadata": {
    "collapsed": false,
    "pycharm": {
     "name": "#%%\n"
    }
   }
  },
  {
   "cell_type": "code",
   "execution_count": 174,
   "outputs": [],
   "source": [
    "root_path = './data/messages'\n",
    "\n",
    "read_from = range(1, 10)\n",
    "# read_from = [1,2,3]\n",
    "test_on = 10\n",
    "\n",
    "for i in read_from:\n",
    "    path = root_path + f'/part{i}'\n",
    "    all_files = get_files_from_dir(path)\n",
    "\n",
    "    for file in all_files:\n",
    "        full_file_name = join(path, file)\n",
    "        messages = read_message(full_file_name)\n",
    "\n",
    "        totalMessagesCount += 1\n",
    "        index_addition = 0\n",
    "        if 'spmsg' in file:\n",
    "            index_addition = 1\n",
    "            spmMessageCount += 1\n",
    "\n",
    "        for word in messages:\n",
    "            if wordToClass.get(word) is None:\n",
    "                wordToClass[word] = [0, 0]\n",
    "            wordToClass[word][index_addition] += 1\n"
   ],
   "metadata": {
    "collapsed": false,
    "pycharm": {
     "name": "#%%\n"
    }
   }
  },
  {
   "cell_type": "code",
   "execution_count": 175,
   "outputs": [],
   "source": [
    "k = 2\n",
    "class_count = [totalMessagesCount - spmMessageCount, spmMessageCount]\n",
    "lam = [lmbd_legit, lmbd_spm]"
   ],
   "metadata": {
    "collapsed": false,
    "pycharm": {
     "name": "#%%\n"
    }
   }
  },
  {
   "cell_type": "code",
   "execution_count": 176,
   "outputs": [],
   "source": [
    "precalc = [0.0] * k\n",
    "\n",
    "for i in range(k):\n",
    "    if class_count[i] != 0:\n",
    "        precalc[i] = math.log(1.0 * class_count[i] * lam[i] / totalMessagesCount)\n",
    "\n",
    "for w in set(wordToClass.keys()):\n",
    "    st = wordToClass[w]\n",
    "    for i in range(k):\n",
    "        if class_count[i] != 0:\n",
    "            precalc[i] += math.log(1 - (st[i] + alpha) / (class_count[i] + 2 * alpha))"
   ],
   "metadata": {
    "collapsed": false,
    "pycharm": {
     "name": "#%%\n"
    }
   }
  },
  {
   "cell_type": "code",
   "execution_count": 177,
   "outputs": [],
   "source": [
    "testing_path = root_path + f'/part{test_on}'\n",
    "all_testing_files = get_files_from_dir(testing_path)\n",
    "total_test_mes = 0\n",
    "correct = 0"
   ],
   "metadata": {
    "collapsed": false,
    "pycharm": {
     "name": "#%%\n"
    }
   }
  },
  {
   "cell_type": "code",
   "execution_count": 178,
   "outputs": [],
   "source": [
    "for test in all_testing_files:\n",
    "    full_file_name = join(testing_path, test)\n",
    "    ws = read_message(full_file_name)\n",
    "    cr = precalc.copy()\n",
    "\n",
    "    for w in ws:\n",
    "        for i in range(k):\n",
    "            if class_count[i] != 0:\n",
    "                if wordToClass.get(w) is not None:\n",
    "                    st = wordToClass[w]\n",
    "                    pr = (st[i] + alpha) / (class_count[i] + 2 * alpha)\n",
    "                    cr[i] += math.log(pr) - math.log(1 - pr)\n",
    "\n",
    "    is_legit = False\n",
    "\n",
    "    if cr[0] >= cr[1]:\n",
    "        is_legit = True\n",
    "\n",
    "    total_test_mes += 1\n",
    "\n",
    "    if ('spmsg' in test) != is_legit:\n",
    "        correct += 1"
   ],
   "metadata": {
    "collapsed": false,
    "pycharm": {
     "name": "#%%\n"
    }
   }
  },
  {
   "cell_type": "code",
   "execution_count": 179,
   "outputs": [
    {
     "name": "stdout",
     "output_type": "stream",
     "text": [
      "0.908256880733945\n"
     ]
    }
   ],
   "source": [
    "print(correct / total_test_mes)\n"
   ],
   "metadata": {
    "collapsed": false,
    "pycharm": {
     "name": "#%%\n"
    }
   }
  }
 ],
 "metadata": {
  "kernelspec": {
   "display_name": "Python 3",
   "language": "python",
   "name": "python3"
  },
  "language_info": {
   "codemirror_mode": {
    "name": "ipython",
    "version": 2
   },
   "file_extension": ".py",
   "mimetype": "text/x-python",
   "name": "python",
   "nbconvert_exporter": "python",
   "pygments_lexer": "ipython2",
   "version": "2.7.6"
  }
 },
 "nbformat": 4,
 "nbformat_minor": 0
}