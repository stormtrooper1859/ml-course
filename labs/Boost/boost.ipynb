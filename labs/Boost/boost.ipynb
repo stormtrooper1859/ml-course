{
 "cells": [
  {
   "cell_type": "code",
   "execution_count": 13,
   "metadata": {
    "collapsed": true
   },
   "outputs": [],
   "source": [
    "from sklearn.tree import DecisionTreeClassifier\n",
    "import numpy as np\n",
    "import pandas as pd\n",
    "import math\n",
    "\n",
    "%matplotlib inline\n",
    "import matplotlib.pyplot as plt\n"
   ]
  },
  {
   "cell_type": "code",
   "execution_count": 14,
   "outputs": [],
   "source": [
    "t_steps = [1, 2, 3, 5, 8, 13, 21, 34, 55]"
   ],
   "metadata": {
    "collapsed": false,
    "pycharm": {
     "name": "#%%\n"
    }
   }
  },
  {
   "cell_type": "code",
   "execution_count": 15,
   "outputs": [],
   "source": [
    "def draw_data(X, Y):\n",
    "    class_to_color = {\n",
    "        1: \"r\",\n",
    "        -1: \"b\"\n",
    "    }\n",
    "\n",
    "    colors = list(map(lambda y: class_to_color[y], Y))\n",
    "\n",
    "    X1 = X[:,0:1].flatten()\n",
    "    X2 = X[:,1:2].flatten()\n",
    "\n",
    "    plt.scatter(x=X1, y=X2, c=colors)\n",
    "    plt.show()\n"
   ],
   "metadata": {
    "collapsed": false,
    "pycharm": {
     "name": "#%%\n"
    }
   }
  },
  {
   "cell_type": "code",
   "execution_count": 16,
   "outputs": [],
   "source": [
    "def boosting(X, Y):\n",
    "    n = X.shape[0]\n",
    "\n",
    "    w = [1/n] * n\n",
    "\n",
    "    T = 50\n",
    "    a = [None] * T\n",
    "    b = [None] * T\n",
    "\n",
    "    for t in range(T):\n",
    "        bt = DecisionTreeClassifier(max_depth=2)\n",
    "        bt.fit(X, Y, sample_weight=w)\n",
    "\n",
    "        YP = bt.predict(X)\n",
    "        nb = 0\n",
    "\n",
    "        for i in range(n):\n",
    "            if YP[i] != Y[i]:\n",
    "                nb += w[i]\n",
    "\n",
    "        ins = (1 - nb + 1/n) / (nb + 1 / n);\n",
    "        # print(ins)\n",
    "        at = 1/2 * math.log(ins)\n",
    "\n",
    "        a[t] = at\n",
    "        b[t] = bt\n",
    "\n",
    "        for i in range(n):\n",
    "            y1 = Y[i]\n",
    "            y2 = YP[i]\n",
    "            # print(y1, y2)\n",
    "            w[i] = w[i] * math.exp(-at * y1 * y2)\n",
    "\n",
    "        ws = sum(w)\n",
    "\n",
    "        for i in range(n):\n",
    "            w[i] /= ws\n",
    "\n",
    "    def predict(x_test):\n",
    "        r = 0\n",
    "\n",
    "        for j in range(T):\n",
    "            r += a[j] * b[j].predict(x_test)\n",
    "\n",
    "        return r\n",
    "\n",
    "    return predict"
   ],
   "metadata": {
    "collapsed": false,
    "pycharm": {
     "name": "#%%\n"
    }
   }
  },
  {
   "cell_type": "code",
   "execution_count": 17,
   "outputs": [],
   "source": [
    "def processing(name):\n",
    "    data = pd.read_csv(name)\n",
    "    X = data.values[:,:-1]\n",
    "    Y_words = data.values[:,-1:].flatten()\n",
    "\n",
    "    Y = np.array(list(map(lambda x: 1 if x == 'N' else -1, Y_words)))\n",
    "\n",
    "    # drawing train data\n",
    "    draw_data(X, Y)\n",
    "\n",
    "    trained_model = boosting(X, Y)\n",
    "\n",
    "    n = X.shape[0]\n",
    "    color2 = ['b'] * n\n",
    "\n",
    "    class_to_color = {\n",
    "        1: \"r\",\n",
    "        -1: \"b\"\n",
    "    }\n",
    "\n",
    "    colors = list(map(lambda y: class_to_color[y], Y))\n",
    "\n",
    "    for i in range(n):\n",
    "        r = trained_model([X[i]])\n",
    "\n",
    "        # r = ada.predict([X[i]])\n",
    "        if r * Y[i] < 0:\n",
    "            # print(i, r, Y[i], w[i])\n",
    "            if colors[i] == 'r':\n",
    "                colors[i] = 'pink'\n",
    "            else:\n",
    "                colors[i] = '#33ff33'\n",
    "        # color2[i] = 'r'\n",
    "\n",
    "    X1 = X[:,0:1].flatten()\n",
    "    X2 = X[:,1:2].flatten()\n",
    "\n",
    "    plt.scatter(x=X1, y=X2, c=colors)\n",
    "    plt.show()"
   ],
   "metadata": {
    "collapsed": false,
    "pycharm": {
     "name": "#%%\n"
    }
   }
  },
  {
   "cell_type": "code",
   "execution_count": 18,
   "outputs": [],
   "source": [
    "# data = pd.read_csv('./data/chips.csv')\n",
    "# # data = pd.read_csv('./data/geyser.csv')\n",
    "#\n",
    "#\n",
    "#\n",
    "# X1 = data.values[:,0:1].flatten()\n",
    "# X2 = data.values[:,1:2].flatten()\n",
    "#\n",
    "#\n",
    "# X = data.values[:,:-1]\n",
    "# Y1 = data.values[:,2:].flatten()\n",
    "#\n",
    "# # print(X1)\n",
    "# # print(X2)\n",
    "# # print(Y)\n",
    "#\n",
    "# colored = list(map(lambda x: vine_class[x], Y1))\n",
    "#\n",
    "#\n",
    "# Y = np.array(list(map(lambda x: 1 if x == 'N' else -1, Y1)))\n",
    "#\n",
    "#\n",
    "# plt.scatter(x=X1, y=X2, c=colored)\n",
    "# plt.show()"
   ],
   "metadata": {
    "collapsed": false,
    "pycharm": {
     "name": "#%%\n"
    }
   }
  },
  {
   "cell_type": "code",
   "execution_count": 19,
   "outputs": [],
   "source": [
    "# n = X1.shape[0]\n",
    "#\n",
    "# w = [1/n] * n\n",
    "#\n",
    "# T = 50\n",
    "# a = [None] * T\n",
    "# b = [None] * T\n",
    "#"
   ],
   "metadata": {
    "collapsed": false,
    "pycharm": {
     "name": "#%%\n"
    }
   }
  },
  {
   "cell_type": "code",
   "execution_count": 20,
   "outputs": [],
   "source": [
    "# for t in range(T):\n",
    "#     bt = DecisionTreeClassifier(max_depth=2)\n",
    "#     bt.fit(X, Y, sample_weight=w)\n",
    "#\n",
    "#     YP = bt.predict(X)\n",
    "#     nb = 0\n",
    "#\n",
    "#     for i in range(n):\n",
    "#         if YP[i] != Y[i]:\n",
    "#             nb += w[i]\n",
    "#\n",
    "#     ins = (1 - nb + 1/n) / (nb + 1 / n);\n",
    "#     # print(ins)\n",
    "#     at = 1/2 * math.log(ins)\n",
    "#\n",
    "#     a[t] = at\n",
    "#     b[t] = bt\n",
    "#\n",
    "#     for i in range(n):\n",
    "#         y1 = Y[i]\n",
    "#         y2 = YP[i]\n",
    "#         # print(y1, y2)\n",
    "#         w[i] = w[i] * math.exp(-at * y1 * y2)\n",
    "#\n",
    "#     ws = sum(w)\n",
    "#\n",
    "#     for i in range(n):\n",
    "#         w[i] /= ws\n"
   ],
   "metadata": {
    "collapsed": false,
    "pycharm": {
     "name": "#%%\n"
    }
   }
  },
  {
   "cell_type": "code",
   "execution_count": 21,
   "outputs": [],
   "source": [
    "# color2 = ['b'] * n"
   ],
   "metadata": {
    "collapsed": false,
    "pycharm": {
     "name": "#%%\n"
    }
   }
  },
  {
   "cell_type": "code",
   "execution_count": 22,
   "outputs": [],
   "source": [
    "from sklearn.ensemble import AdaBoostClassifier\n",
    "\n",
    "# ada = AdaBoostClassifier(n_estimators=T, base_estimator=DecisionTreeClassifier(max_depth=2))\n",
    "# ada.fit(X, Y)\n"
   ],
   "metadata": {
    "collapsed": false,
    "pycharm": {
     "name": "#%%\n"
    }
   }
  },
  {
   "cell_type": "code",
   "execution_count": 23,
   "outputs": [],
   "source": [
    "# for i in range(n):\n",
    "#     r = 0\n",
    "#\n",
    "#     for j in range(T):\n",
    "#         r += a[j] * b[j].predict([X[i]])\n",
    "#\n",
    "#     # r = ada.predict([X[i]])\n",
    "#     if r * Y[i] < 0:\n",
    "#         print(i, r, Y[i], w[i])\n",
    "#         if colored[i] == 'r':\n",
    "#             colored[i] = 'pink'\n",
    "#         else:\n",
    "#             colored[i] = '#33ff33'\n",
    "#         # color2[i] = 'r'\n",
    "#"
   ],
   "metadata": {
    "collapsed": false,
    "pycharm": {
     "name": "#%%\n"
    }
   }
  },
  {
   "cell_type": "code",
   "execution_count": 24,
   "outputs": [
    {
     "data": {
      "text/plain": "<Figure size 432x288 with 1 Axes>",
      "image/png": "[encoded data removed]"
     },
     "metadata": {},
     "output_type": "display_data"
    },
    {
     "data": {
      "text/plain": "<Figure size 432x288 with 1 Axes>",
      "image/png": "[encoded data removed]"
     },
     "metadata": {},
     "output_type": "display_data"
    }
   ],
   "source": [
    "# plt.scatter(x=X1, y=X2, c=colored)\n",
    "# plt.show()\n",
    "\n",
    "\n",
    "processing('./data/chips.csv')"
   ],
   "metadata": {
    "collapsed": false,
    "pycharm": {
     "name": "#%%\n"
    }
   }
  }
 ],
 "metadata": {
  "kernelspec": {
   "display_name": "Python 3",
   "language": "python",
   "name": "python3"
  },
  "language_info": {
   "codemirror_mode": {
    "name": "ipython",
    "version": 2
   },
   "file_extension": ".py",
   "mimetype": "text/x-python",
   "name": "python",
   "nbconvert_exporter": "python",
   "pygments_lexer": "ipython2",
   "version": "2.7.6"
  }
 },
 "nbformat": 4,
 "nbformat_minor": 0
}