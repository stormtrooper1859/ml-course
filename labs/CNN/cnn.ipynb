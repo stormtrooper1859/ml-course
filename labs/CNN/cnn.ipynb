{
 "cells": [
  {
   "cell_type": "code",
   "execution_count": 457,
   "metadata": {
    "collapsed": true
   },
   "outputs": [],
   "source": [
    "import idx2numpy\n",
    "import numpy as np\n",
    "import torch\n",
    "import torch.nn as nn\n",
    "import torch.nn.functional as F\n",
    "import torch.optim as optim\n",
    "import math\n",
    "from sklearn.metrics import confusion_matrix, accuracy_score\n",
    "\n",
    "%matplotlib inline\n",
    "import matplotlib.pyplot as plt"
   ]
  },
  {
   "cell_type": "code",
   "execution_count": 458,
   "outputs": [],
   "source": [
    "# classic + sgd + mse x4 = 0.98\n",
    "# classic + sgd + cross_ent x1 = 0.9811\n",
    "# classic + adam + cross_ent x3 = 0.9721\n",
    "# classic + adam + cross_ent x1 = 0.9565\n",
    "# classic + dropout + sgd + cross_ent x1 = 0.96\n",
    "# classic + sgd + cross_ent x1 = 0.9752\n",
    "# modernized + sgd + cross_ent x1 = 0.9783\n",
    "\n",
    "# fashion\n",
    "# classic + sgd + cross_ent x1 = 0.8374\n"
   ],
   "metadata": {
    "collapsed": false,
    "pycharm": {
     "name": "#%%\n"
    }
   }
  },
  {
   "cell_type": "code",
   "execution_count": 459,
   "outputs": [],
   "source": [
    "dataset_name='mnist'\n",
    "# dataset_name='fashion'\n",
    "model_parameters_path = f'./{dataset_name}_net.pth'\n"
   ],
   "metadata": {
    "collapsed": false,
    "pycharm": {
     "name": "#%%\n"
    }
   }
  },
  {
   "cell_type": "code",
   "execution_count": 460,
   "outputs": [],
   "source": [
    "training_data_path = f'./data/{dataset_name}/train-images.idx3-ubyte'\n",
    "training_labels_path = f'./data/{dataset_name}/train-labels.idx1-ubyte'\n",
    "\n",
    "training_data = idx2numpy.convert_from_file(training_data_path)\n",
    "training_labels = idx2numpy.convert_from_file(training_labels_path)\n",
    "\n",
    "# normalize data\n",
    "training_data = training_data / 255\n",
    "\n",
    "training_data = torch.from_numpy(training_data).view(-1, 1, 1, 28, 28).float()\n"
   ],
   "metadata": {
    "collapsed": false,
    "pycharm": {
     "name": "#%%\n"
    }
   }
  },
  {
   "cell_type": "code",
   "execution_count": 461,
   "outputs": [],
   "source": [
    "def print_img(img):\n",
    "    plt.imshow(img, cmap=plt.cm.binary)\n",
    "    plt.show()\n"
   ],
   "metadata": {
    "collapsed": false,
    "pycharm": {
     "name": "#%%\n"
    }
   }
  },
  {
   "cell_type": "code",
   "execution_count": 462,
   "outputs": [
    {
     "name": "stdout",
     "output_type": "stream",
     "text": [
      "training image at index 1543\n"
     ]
    },
    {
     "data": {
      "text/plain": "<Figure size 432x288 with 1 Axes>",
      "image/png": "[encoded data removed]"
     },
     "metadata": {},
     "output_type": "display_data"
    }
   ],
   "source": [
    "train_image_index = 1543\n",
    "print('training image at index', train_image_index)\n",
    "print_img(training_data[train_image_index][0][0])\n"
   ],
   "metadata": {
    "collapsed": false,
    "pycharm": {
     "name": "#%%\n"
    }
   }
  },
  {
   "cell_type": "code",
   "execution_count": 463,
   "outputs": [],
   "source": [
    "def array_mul(ar):\n",
    "    result = 1\n",
    "    for x in ar:\n",
    "        result *= x\n",
    "    return result\n"
   ],
   "metadata": {
    "collapsed": false,
    "pycharm": {
     "name": "#%%\n"
    }
   }
  },
  {
   "cell_type": "code",
   "execution_count": 464,
   "outputs": [],
   "source": [
    "class Net(nn.Module):\n",
    "    def __init__(self):\n",
    "        super(Net, self).__init__()\n",
    "\n",
    "        self.conv1 = nn.Conv2d(1, 6, 3)\n",
    "        self.conv2 = nn.Conv2d(6, 16, 3)\n",
    "\n",
    "        self.fc1 = nn.Linear(16 * 5 * 5, 120)\n",
    "        self.fc2 = nn.Linear(120, 84)\n",
    "        self.fc3 = nn.Linear(84, 10)\n",
    "\n",
    "\n",
    "    def forward(self, x):\n",
    "        x = F.max_pool2d(F.relu(self.conv1(x)), (2, 2))\n",
    "        x = F.max_pool2d(F.relu(self.conv2(x)), (2, 2))\n",
    "\n",
    "        # reshape for full connection layer\n",
    "        x = x.view(-1, array_mul(x.size()[1:]))\n",
    "\n",
    "        x = F.relu(self.fc1(x))\n",
    "        x = F.relu(self.fc2(x))\n",
    "        x = self.fc3(x)\n",
    "\n",
    "        return x\n"
   ],
   "metadata": {
    "collapsed": false,
    "pycharm": {
     "name": "#%%\n"
    }
   }
  },
  {
   "cell_type": "code",
   "execution_count": 465,
   "outputs": [
    {
     "name": "stdout",
     "output_type": "stream",
     "text": [
      "Net(\n",
      "  (conv1): Conv2d(1, 6, kernel_size=(3, 3), stride=(1, 1))\n",
      "  (conv2): Conv2d(6, 16, kernel_size=(3, 3), stride=(1, 1))\n",
      "  (fc1): Linear(in_features=400, out_features=120, bias=True)\n",
      "  (fc2): Linear(in_features=120, out_features=84, bias=True)\n",
      "  (fc3): Linear(in_features=84, out_features=10, bias=True)\n",
      ")\n"
     ]
    }
   ],
   "source": [
    "net = Net()\n",
    "print(net)\n"
   ],
   "metadata": {
    "collapsed": false,
    "pycharm": {
     "name": "#%%\n"
    }
   }
  },
  {
   "cell_type": "code",
   "execution_count": 466,
   "outputs": [],
   "source": [
    "criterion = nn.CrossEntropyLoss()\n",
    "num_of_epoch = 1\n",
    "optimizer = optim.SGD(net.parameters(), lr=0.01)\n",
    "# optimizer = optim.Adam(net.parameters(), lr=0.01)\n"
   ],
   "metadata": {
    "collapsed": false,
    "pycharm": {
     "name": "#%%\n"
    }
   }
  },
  {
   "cell_type": "code",
   "execution_count": 467,
   "outputs": [],
   "source": [
    "batch_size_for_info = 5000\n",
    "\n",
    "def start_train():\n",
    "    for epoch in range(num_of_epoch):\n",
    "        # shuffle data\n",
    "        permutation = torch.randperm(training_data.shape[0])\n",
    "        local_training_data = training_data[permutation]\n",
    "        local_training_labels = training_labels[permutation]\n",
    "\n",
    "        running_loss = 0\n",
    "\n",
    "        for i in range(local_training_data.shape[0]):\n",
    "            optimizer.zero_grad()\n",
    "\n",
    "            net_predict_train = net(local_training_data[i])\n",
    "\n",
    "            target = torch.tensor([local_training_labels[i]]).long()\n",
    "\n",
    "            loss = criterion(net_predict_train, target)\n",
    "            loss.backward()\n",
    "            optimizer.step()\n",
    "\n",
    "            running_loss += loss.item()\n",
    "            if i % batch_size_for_info == batch_size_for_info - 1:\n",
    "                print(f'[{epoch + 1}, {i + 1}] loss: {running_loss / batch_size_for_info}')\n",
    "                running_loss = 0.0\n",
    "\n",
    "    print('Training finished')\n"
   ],
   "metadata": {
    "collapsed": false,
    "pycharm": {
     "name": "#%%\n"
    }
   }
  },
  {
   "cell_type": "code",
   "execution_count": 468,
   "outputs": [],
   "source": [
    "test_data_path = f'./data/{dataset_name}/t10k-images.idx3-ubyte'\n",
    "test_labels_path = f'./data/{dataset_name}/t10k-labels.idx1-ubyte'\n",
    "\n",
    "test_data = idx2numpy.convert_from_file(test_data_path)\n",
    "test_labels = idx2numpy.convert_from_file(test_labels_path)\n",
    "\n",
    "# normalize data\n",
    "test_data = test_data / 255\n"
   ],
   "metadata": {
    "collapsed": false,
    "pycharm": {
     "name": "#%%\n"
    }
   }
  },
  {
   "cell_type": "code",
   "execution_count": 469,
   "outputs": [
    {
     "name": "stdout",
     "output_type": "stream",
     "text": [
      "[1, 5000] loss: 0.8359452614307403\n",
      "[1, 10000] loss: 0.23073533141613006\n",
      "[1, 15000] loss: 0.183032044506073\n",
      "[1, 20000] loss: 0.14303853681087494\n",
      "[1, 25000] loss: 0.1161121464252472\n",
      "[1, 30000] loss: 0.12439854154586792\n",
      "[1, 35000] loss: 0.1034897052526474\n",
      "[1, 40000] loss: 0.10790359997749328\n",
      "[1, 45000] loss: 0.09429240219593048\n",
      "[1, 50000] loss: 0.09835604238510132\n",
      "[1, 55000] loss: 0.08414424772262573\n",
      "[1, 60000] loss: 0.08853060286045074\n",
      "Training finished\n"
     ]
    }
   ],
   "source": [
    "# start_train()\n",
    "# torch.save(net.state_dict(), model_parameters_path)\n"
   ],
   "metadata": {
    "collapsed": false,
    "pycharm": {
     "name": "#%%\n"
    }
   }
  },
  {
   "cell_type": "code",
   "execution_count": 470,
   "outputs": [],
   "source": [
    "testing_net = Net()\n",
    "testing_net.load_state_dict(torch.load(model_parameters_path))\n"
   ],
   "metadata": {
    "collapsed": false,
    "pycharm": {
     "name": "#%%\n"
    }
   }
  },
  {
   "cell_type": "code",
   "execution_count": 471,
   "outputs": [
    {
     "name": "stdout",
     "output_type": "stream",
     "text": [
      "1\n",
      "2\n",
      "3\n",
      "4\n",
      "5\n",
      "6\n",
      "7\n",
      "8\n",
      "9\n",
      "10\n",
      "testing done\n"
     ]
    }
   ],
   "source": [
    "Y_result = []\n",
    "n = 10\n",
    "similar_matrix = np.full((n, n), -1)\n",
    "similar_matrix_value = np.full((n, n), -math.inf)\n",
    "\n",
    "net.eval()\n",
    "for i in range(len(test_data)):\n",
    "    tens_train = torch.from_numpy(test_data[i]).view(1, 1, 28, 28).float()\n",
    "    net_predict_train = testing_net(tens_train)\n",
    "    res_percentage, result = torch.max(net_predict_train.data, 1)\n",
    "\n",
    "    res_percentage = res_percentage[0].item()\n",
    "    result = result[0].item()\n",
    "\n",
    "    if similar_matrix_value[test_labels[i]][result] < res_percentage:\n",
    "        similar_matrix_value[test_labels[i]][result] = res_percentage\n",
    "        similar_matrix[test_labels[i]][result] = i\n",
    "\n",
    "    Y_result.append(result)\n",
    "\n",
    "    if i % 1000 == 999:\n",
    "        print((i + 1) // 1000)\n",
    "\n",
    "print('testing done')\n"
   ],
   "metadata": {
    "collapsed": false,
    "pycharm": {
     "name": "#%%\n"
    }
   }
  },
  {
   "cell_type": "code",
   "execution_count": 472,
   "outputs": [
    {
     "name": "stdout",
     "output_type": "stream",
     "text": [
      "accuracy 0.9789\n",
      "[[ 960    0    3    0    0    0    7    2    6    2]\n",
      " [   0 1131    0    3    0    0    1    0    0    0]\n",
      " [   0    4 1006    0    2    0    4   14    2    0]\n",
      " [   0    0    3  994    0    0    0    7    5    1]\n",
      " [   0    1    2    0  967    0    6    0    0    6]\n",
      " [   0    0    0   25    0  860    3    1    0    3]\n",
      " [   4    4    1    0    1    5  943    0    0    0]\n",
      " [   0    5    5    1    4    0    0  998    3   12]\n",
      " [   6    0    8    1    0    2    1    1  953    2]\n",
      " [   0    1    0    2   13    8    1    4    3  977]]\n"
     ]
    }
   ],
   "source": [
    "conf_matrix = confusion_matrix(test_labels, np.array(Y_result))\n",
    "accuracy = accuracy_score(test_labels, np.array(Y_result))\n",
    "\n",
    "print('accuracy', accuracy)\n",
    "print(conf_matrix)\n"
   ],
   "metadata": {
    "collapsed": false,
    "pycharm": {
     "name": "#%%\n"
    }
   }
  },
  {
   "cell_type": "code",
   "execution_count": 473,
   "outputs": [
    {
     "data": {
      "text/plain": "<Figure size 432x288 with 100 Axes>",
      "image/png": "[encoded data removed]"
     },
     "metadata": {},
     "output_type": "display_data"
    }
   ],
   "source": [
    "f, axarr = plt.subplots(10,10)\n",
    "\n",
    "for i in range(10):\n",
    "    for j in range(10):\n",
    "        if similar_matrix[i][j] != -1:\n",
    "            axarr[i,j].imshow(test_data[similar_matrix[i][j]], cmap=plt.cm.binary)\n",
    "        else:\n",
    "            axarr[i,j].imshow(np.zeros((28, 28)), cmap=plt.cm.binary)\n",
    "        axarr[i,j].axis('off')\n",
    "\n",
    "    axarr[0,i].set_title(str(i))# set title\n",
    "\n",
    "plt.show()\n"
   ],
   "metadata": {
    "collapsed": false,
    "pycharm": {
     "name": "#%%\n"
    }
   }
  }
 ],
 "metadata": {
  "kernelspec": {
   "display_name": "Python 3",
   "language": "python",
   "name": "python3"
  },
  "language_info": {
   "codemirror_mode": {
    "name": "ipython",
    "version": 2
   },
   "file_extension": ".py",
   "mimetype": "text/x-python",
   "name": "python",
   "nbconvert_exporter": "python",
   "pygments_lexer": "ipython2",
   "version": "2.7.6"
  }
 },
 "nbformat": 4,
 "nbformat_minor": 0
}