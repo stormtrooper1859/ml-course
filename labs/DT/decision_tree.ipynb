{
 "cells": [
  {
   "cell_type": "code",
   "execution_count": 148,
   "metadata": {
    "collapsed": true
   },
   "outputs": [],
   "source": [
    "from sklearn.tree import DecisionTreeClassifier\n",
    "from sklearn import metrics\n",
    "from scipy import stats\n",
    "import numpy as np\n",
    "import pandas as pd\n",
    "\n",
    "%matplotlib inline\n",
    "import matplotlib.pyplot as plt\n"
   ]
  },
  {
   "cell_type": "code",
   "execution_count": 149,
   "outputs": [],
   "source": [
    "number_of_trees = 50\n"
   ],
   "metadata": {
    "collapsed": false,
    "pycharm": {
     "name": "#%%\n"
    }
   }
  },
  {
   "cell_type": "code",
   "execution_count": 150,
   "outputs": [],
   "source": [
    "test_depths = [1, 2, 3, 4, 5, 6, 7, 8, 10, 12, 15, 20, 30]\n",
    "without_depths_limitation = [None]\n",
    "\n",
    "for_testing_height = [2, 4, 6, 9, 15]\n",
    "for_testing_max_height = [9, 12, 15, 17, 18, 19, 21, 24, 27]\n"
   ],
   "metadata": {
    "collapsed": false,
    "pycharm": {
     "name": "#%%\n"
    }
   }
  },
  {
   "cell_type": "code",
   "execution_count": 151,
   "outputs": [],
   "source": [
    "all_files = [f'{file_num:02d}' for file_num in range(1, 22)]\n",
    "\n",
    "with_max_height = ['02', '12', '14', '19', '21']\n",
    "with_min_height = ['08', '11', '15', '16']\n"
   ],
   "metadata": {
    "collapsed": false,
    "pycharm": {
     "name": "#%%\n"
    }
   }
  },
  {
   "cell_type": "code",
   "execution_count": 152,
   "outputs": [],
   "source": [
    "def get_data(name):\n",
    "    train_data = pd.read_csv(name)\n",
    "    X_train = train_data.values[:,:-1]\n",
    "    Y_train = train_data.values[:,-1]\n",
    "\n",
    "    return X_train, Y_train\n"
   ],
   "metadata": {
    "collapsed": false,
    "pycharm": {
     "name": "#%%\n"
    }
   }
  },
  {
   "cell_type": "code",
   "execution_count": 153,
   "outputs": [],
   "source": [
    "def build_forest(X, Y, tree_depth):\n",
    "    n = X.shape[0]\n",
    "    trees = []\n",
    "\n",
    "    for i in range(number_of_trees):\n",
    "        tree1 = DecisionTreeClassifier(\n",
    "            criterion='gini',\n",
    "            max_depth=tree_depth,\n",
    "\n",
    "            splitter='random',\n",
    "            # max_features='sqrt',\n",
    "            # splitter='best',\n",
    "        )\n",
    "\n",
    "        random_choice = np.random.randint(n, size=n)\n",
    "        X1 = X[random_choice]\n",
    "        Y1 = Y[random_choice]\n",
    "\n",
    "        tree1.fit(X1, Y1)\n",
    "        trees.append(tree1)\n",
    "\n",
    "    def predict(Q):\n",
    "        predicted_classes = np.array(list(map(lambda tree: tree.predict(Q), trees)))\n",
    "        most_common_class = stats.mode(predicted_classes).mode[0]\n",
    "        return most_common_class\n",
    "\n",
    "    return predict\n"
   ],
   "metadata": {
    "collapsed": false,
    "pycharm": {
     "name": "#%%\n"
    }
   }
  },
  {
   "cell_type": "code",
   "execution_count": 154,
   "outputs": [],
   "source": [
    "def processing(test_number, depths):\n",
    "    X_train, Y_train = get_data(f'data/{test_number}_train.csv')\n",
    "    X_test, Y_test = get_data(f'data/{test_number}_test.csv')\n",
    "\n",
    "    accuracies_test = []\n",
    "    accuracies_train = []\n",
    "\n",
    "    for depth in depths:\n",
    "        trained_model = build_forest(X_train, Y_train, depth)\n",
    "\n",
    "        Y_predicted_train = trained_model(X_train)\n",
    "        Y_predicted_test = trained_model(X_test)\n",
    "\n",
    "        accuracy_train = metrics.accuracy_score(Y_train, Y_predicted_train)\n",
    "        accuracy_test = metrics.accuracy_score(Y_test, Y_predicted_test)\n",
    "\n",
    "        accuracies_train.append(accuracy_train)\n",
    "        accuracies_test.append(accuracy_test)\n",
    "\n",
    "        print('Test', test_number, ':', 'depth', depth)\n",
    "        print('\\t accuracy train', accuracy_train)\n",
    "        print('\\t accuracy test', accuracy_test)\n",
    "\n",
    "    if len(depths) >= 2:\n",
    "        plt.title('sample ' + test_number + ' train')\n",
    "        plt.plot(depths, accuracies_train, marker='o')\n",
    "        plt.show()\n",
    "\n",
    "        plt.title('sample ' + test_number + ' test')\n",
    "        plt.plot(depths, accuracies_test, marker='o')\n",
    "        plt.show()\n"
   ],
   "metadata": {
    "collapsed": false,
    "pycharm": {
     "name": "#%%\n"
    }
   }
  },
  {
   "cell_type": "code",
   "execution_count": 155,
   "outputs": [],
   "source": [
    "# 01 09 15 17\n"
   ],
   "metadata": {
    "collapsed": false,
    "pycharm": {
     "name": "#%%\n"
    }
   }
  },
  {
   "cell_type": "code",
   "execution_count": 156,
   "outputs": [
    {
     "name": "stdout",
     "output_type": "stream",
     "text": [
      "Test 19 : depth 1\n",
      "\t accuracy train 0.3285821455363841\n",
      "\t accuracy test 0.3345836459114779\n",
      "Test 19 : depth 2\n",
      "\t accuracy train 0.3743435858964741\n",
      "\t accuracy test 0.3698424606151538\n",
      "Test 19 : depth 3\n",
      "\t accuracy train 0.45161290322580644\n",
      "\t accuracy test 0.45236309077269315\n",
      "Test 19 : depth 4\n",
      "\t accuracy train 0.4988747186796699\n",
      "\t accuracy test 0.5071267816954238\n",
      "Test 19 : depth 5\n",
      "\t accuracy train 0.5033758439609902\n",
      "\t accuracy test 0.5078769692423106\n",
      "Test 19 : depth 6\n",
      "\t accuracy train 0.5693923480870218\n",
      "\t accuracy test 0.5438859714928732\n",
      "Test 19 : depth 7\n",
      "\t accuracy train 0.6496624156039009\n",
      "\t accuracy test 0.5918979744936234\n",
      "Test 19 : depth 8\n",
      "\t accuracy train 0.7719429857464366\n",
      "\t accuracy test 0.6571642910727682\n",
      "Test 19 : depth 10\n",
      "\t accuracy train 0.9174793698424606\n",
      "\t accuracy test 0.6909227306826706\n",
      "Test 19 : depth 12\n",
      "\t accuracy train 0.9737434358589647\n",
      "\t accuracy test 0.7299324831207802\n",
      "Test 19 : depth 15\n",
      "\t accuracy train 0.9984996249062266\n",
      "\t accuracy test 0.735933983495874\n",
      "Test 19 : depth 20\n",
      "\t accuracy train 1.0\n",
      "\t accuracy test 0.722430607651913\n",
      "Test 19 : depth 30\n",
      "\t accuracy train 1.0\n",
      "\t accuracy test 0.741185296324081\n"
     ]
    },
    {
     "data": {
      "text/plain": "<Figure size 432x288 with 1 Axes>",
      "image/png": "[encoded data removed]"
     },
     "metadata": {},
     "output_type": "display_data"
    },
    {
     "data": {
      "text/plain": "<Figure size 432x288 with 1 Axes>",
      "image/png": "[encoded data removed]"
     },
     "metadata": {},
     "output_type": "display_data"
    }
   ],
   "source": [
    "# with max height\n",
    "processing('19', test_depths)\n"
   ],
   "metadata": {
    "collapsed": false,
    "pycharm": {
     "name": "#%%\n"
    }
   }
  },
  {
   "cell_type": "code",
   "execution_count": 157,
   "outputs": [
    {
     "name": "stdout",
     "output_type": "stream",
     "text": [
      "Test 15 : depth 1\n",
      "\t accuracy train 0.8900900900900901\n",
      "\t accuracy test 0.9501501501501501\n",
      "Test 15 : depth 2\n",
      "\t accuracy train 0.8948948948948949\n",
      "\t accuracy test 0.9501501501501501\n",
      "Test 15 : depth 3\n",
      "\t accuracy train 0.9201201201201201\n",
      "\t accuracy test 0.9735735735735735\n",
      "Test 15 : depth 4\n",
      "\t accuracy train 0.9201201201201201\n",
      "\t accuracy test 0.9717717717717718\n",
      "Test 15 : depth 5\n",
      "\t accuracy train 0.9369369369369369\n",
      "\t accuracy test 0.9927927927927928\n",
      "Test 15 : depth 6\n",
      "\t accuracy train 0.9411411411411411\n",
      "\t accuracy test 0.9963963963963964\n",
      "Test 15 : depth 7\n",
      "\t accuracy train 0.9447447447447448\n",
      "\t accuracy test 0.9987987987987988\n",
      "Test 15 : depth 8\n",
      "\t accuracy train 0.9465465465465466\n",
      "\t accuracy test 0.9987987987987988\n",
      "Test 15 : depth 10\n",
      "\t accuracy train 0.9507507507507508\n",
      "\t accuracy test 0.9987987987987988\n",
      "Test 15 : depth 12\n",
      "\t accuracy train 0.954954954954955\n",
      "\t accuracy test 0.9987987987987988\n",
      "Test 15 : depth 15\n",
      "\t accuracy train 0.975975975975976\n",
      "\t accuracy test 0.9981981981981982\n",
      "Test 15 : depth 20\n",
      "\t accuracy train 0.9975975975975976\n",
      "\t accuracy test 0.9987987987987988\n",
      "Test 15 : depth 30\n",
      "\t accuracy train 0.9987987987987988\n",
      "\t accuracy test 0.9987987987987988\n"
     ]
    },
    {
     "data": {
      "text/plain": "<Figure size 432x288 with 1 Axes>",
      "image/png": "[encoded data removed]"
     },
     "metadata": {},
     "output_type": "display_data"
    },
    {
     "data": {
      "text/plain": "<Figure size 432x288 with 1 Axes>",
      "image/png": "[encoded data removed]"
     },
     "metadata": {},
     "output_type": "display_data"
    }
   ],
   "source": [
    "# with min height\n",
    "processing('15', test_depths)\n"
   ],
   "metadata": {
    "collapsed": false,
    "pycharm": {
     "name": "#%%\n"
    }
   }
  },
  {
   "cell_type": "code",
   "execution_count": 158,
   "outputs": [
    {
     "name": "stdout",
     "output_type": "stream",
     "text": [
      "Test 01 : depth None\n",
      "\t accuracy train 0.9997429966589566\n",
      "\t accuracy test 0.9917758930866101\n",
      "Test 02 : depth None\n",
      "\t accuracy train 1.0\n",
      "\t accuracy test 0.5188295165394402\n",
      "Test 03 : depth None\n",
      "\t accuracy train 0.9990356798457087\n",
      "\t accuracy test 0.9995178399228544\n",
      "Test 04 : depth None\n",
      "\t accuracy train 0.9996521739130435\n",
      "\t accuracy test 0.9596521739130435\n",
      "Test 05 : depth None\n",
      "\t accuracy train 1.0\n",
      "\t accuracy test 0.9935064935064936\n",
      "Test 06 : depth None\n",
      "\t accuracy train 0.9988962472406181\n",
      "\t accuracy test 0.9884105960264901\n",
      "Test 07 : depth None\n",
      "\t accuracy train 1.0\n",
      "\t accuracy test 0.9520930232558139\n",
      "Test 08 : depth None\n",
      "\t accuracy train 0.997920997920998\n",
      "\t accuracy test 0.9708939708939709\n",
      "Test 09 : depth None\n",
      "\t accuracy train 1.0\n",
      "\t accuracy test 0.7235294117647059\n",
      "Test 10 : depth None\n",
      "\t accuracy train 1.0\n",
      "\t accuracy test 0.9830985915492958\n",
      "Test 11 : depth None\n",
      "\t accuracy train 0.999195171026157\n",
      "\t accuracy test 0.999195171026157\n",
      "Test 12 : depth None\n",
      "\t accuracy train 1.0\n",
      "\t accuracy test 0.8476003367948358\n",
      "Test 13 : depth None\n",
      "\t accuracy train 1.0\n",
      "\t accuracy test 0.5073394495412844\n",
      "Test 14 : depth None\n",
      "\t accuracy train 0.9996140486298727\n",
      "\t accuracy test 0.9301428020069471\n",
      "Test 15 : depth None\n",
      "\t accuracy train 0.9993993993993994\n",
      "\t accuracy test 0.9993993993993994\n",
      "Test 16 : depth None\n",
      "\t accuracy train 1.0\n",
      "\t accuracy test 1.0\n",
      "Test 17 : depth None\n",
      "\t accuracy train 1.0\n",
      "\t accuracy test 0.628140703517588\n",
      "Test 18 : depth None\n",
      "\t accuracy train 1.0\n",
      "\t accuracy test 0.8108711839166046\n",
      "Test 19 : depth None\n",
      "\t accuracy train 1.0\n",
      "\t accuracy test 0.7441860465116279\n",
      "Test 20 : depth None\n",
      "\t accuracy train 0.9996038034865293\n",
      "\t accuracy test 0.9405705229793978\n",
      "Test 21 : depth None\n",
      "\t accuracy train 1.0\n",
      "\t accuracy test 0.7133798351299937\n"
     ]
    }
   ],
   "source": [
    "for file_name in all_files:\n",
    "    processing(file_name, depths=without_depths_limitation)\n"
   ],
   "metadata": {
    "collapsed": false,
    "pycharm": {
     "name": "#%%\n"
    }
   }
  },
  {
   "cell_type": "code",
   "execution_count": 159,
   "outputs": [],
   "source": [
    "# for file_name in all_files:\n",
    "#     processing(file_name, depths=for_testing_height)\n",
    "\n",
    "# с минимальной высотой: 8, 11, 15, 16\n",
    "# с максимальной высотой: 02, 12, 14, 19, 21\n",
    "\n"
   ],
   "metadata": {
    "collapsed": false,
    "pycharm": {
     "name": "#%%\n"
    }
   }
  }
 ],
 "metadata": {
  "kernelspec": {
   "display_name": "Python 3",
   "language": "python",
   "name": "python3"
  },
  "language_info": {
   "codemirror_mode": {
    "name": "ipython",
    "version": 2
   },
   "file_extension": ".py",
   "mimetype": "text/x-python",
   "name": "python",
   "nbconvert_exporter": "python",
   "pygments_lexer": "ipython2",
   "version": "2.7.6"
  }
 },
 "nbformat": 4,
 "nbformat_minor": 0
}