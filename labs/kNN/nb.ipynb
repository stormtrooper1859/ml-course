{
 "cells": [
  {
   "cell_type": "code",
   "execution_count": 441,
   "metadata": {
    "pycharm": {
     "name": "#%%\n"
    }
   },
   "outputs": [],
   "source": [
    "import csv\n",
    "import numpy as np\n",
    "import math\n",
    "import functools\n",
    "\n",
    "%matplotlib inline\n",
    "import matplotlib.pyplot as plt"
   ]
  },
  {
   "cell_type": "code",
   "execution_count": 442,
   "outputs": [],
   "source": [
    "distances = {\n",
    "    'manhattan': lambda x, y: sum([abs(x[i] - y[i]) for i in range(len(x))]),\n",
    "    'euclidean': lambda x, y: math.sqrt(sum([(x[i] - y[i]) ** 2 for i in range(len(x))])),\n",
    "    'chebyshev': lambda x, y: max([abs(x[i] - y[i]) for i in range(len(x))]),\n",
    "}"
   ],
   "metadata": {
    "collapsed": false,
    "pycharm": {
     "name": "#%%\n"
    }
   }
  },
  {
   "cell_type": "code",
   "execution_count": 443,
   "outputs": [],
   "source": [
    "kernels = {\n",
    "    'uniform': lambda x: 0.5 if abs(x) <= 1 else 0,\n",
    "    'triangular': lambda x: 1 - abs(x) if abs(x) <= 1 else 0,\n",
    "    'epanechnikov': lambda x: 3 / 4 * (1 - x ** 2) if abs(x) <= 1 else 0,\n",
    "    'quartic': lambda x: 15 / 16 * (1 - x ** 2) ** 2 if abs(x) <= 1 else 0,\n",
    "    'triweight': lambda x: 35 / 32 * (1 - x ** 2) ** 3 if abs(x) <= 1 else 0,\n",
    "    'tricube': lambda x: 70 / 81 * (1 - abs(x) ** 3) ** 3 if abs(x) <= 1 else 0,\n",
    "    'gaussian': lambda x: 1 / math.sqrt(2 * math.pi) * math.exp(-1 / 2 * x ** 2),\n",
    "    'cosine': lambda x: math.pi / 4 * math.cos(math.pi / 2 * x) if abs(x) <= 1 else 0,\n",
    "    'logistic': lambda x: 1 / (math.exp(x) + 2 + math.exp(-x)),\n",
    "    'sigmoid': lambda x: 2 / math.pi / (math.exp(x) + math.exp(-x)),\n",
    "}"
   ],
   "metadata": {
    "collapsed": false,
    "pycharm": {
     "name": "#%%\n"
    }
   }
  },
  {
   "cell_type": "code",
   "execution_count": 444,
   "metadata": {
    "pycharm": {
     "name": "#%%\n"
    }
   },
   "outputs": [],
   "source": [
    "def read_data():\n",
    "    X, Y = [], []\n",
    "    with open('wine.csv') as f:\n",
    "        reader = csv.reader(f)\n",
    "        data = np.array(list(reader))\n",
    "        X = data[1:, 1:]\n",
    "        Y = data[1:, :1]\n",
    "        X = np.vectorize(float)(X)\n",
    "        Y = np.vectorize(float)(Y)\n",
    "    return X, Y"
   ]
  },
  {
   "cell_type": "code",
   "execution_count": 445,
   "metadata": {
    "pycharm": {
     "name": "#%%\n"
    }
   },
   "outputs": [],
   "source": [
    "def normalize(data):\n",
    "    for i in range(data.shape[1]):\n",
    "        mn = min(data.T[i])\n",
    "        mx = max(data.T[i])\n",
    "        for j in range(data.shape[0]):\n",
    "            data[j][i] = (data[j][i] - mn) / (mx - mn)\n",
    "    return data"
   ]
  },
  {
   "cell_type": "code",
   "execution_count": 446,
   "metadata": {
    "pycharm": {
     "name": "#%%\n"
    }
   },
   "outputs": [],
   "source": [
    "def predict_inner(query, X, Y, distType, kernelType, windowType, windowsWidth):\n",
    "    n = X.shape[0]\n",
    "\n",
    "    distance = distances[distType]\n",
    "    kernel = kernels[kernelType]\n",
    "\n",
    "    sortedX = sorted([distance(x, query) for x in X])\n",
    "\n",
    "    if windowType == 'variable':\n",
    "        windowsWidth = sortedX[windowsWidth]\n",
    "\n",
    "    resY = 0\n",
    "    res = 0\n",
    "    for i in range(n):\n",
    "        d = distance(X[i], query)\n",
    "        t = 0\n",
    "        if windowsWidth == 0:\n",
    "            if d == 0:\n",
    "                t = 1\n",
    "        else:\n",
    "            t = kernel(d / windowsWidth)\n",
    "        res += t\n",
    "        resY += t * Y[i]\n",
    "\n",
    "    if res == 0:\n",
    "        for i in range(n):\n",
    "            resY += Y[i]\n",
    "            res += 1\n",
    "\n",
    "    result = resY / res\n",
    "\n",
    "    return int(round(result))\n"
   ]
  },
  {
   "cell_type": "code",
   "execution_count": 447,
   "outputs": [],
   "source": [
    "def predict(X, Y, indexToQuery, distType, kernelType, windowType, windowsWidth):\n",
    "    return predict_inner(X[indexToQuery],\n",
    "                  np.delete(X, (indexToQuery), axis=0),\n",
    "                  np.delete(Y, (indexToQuery), axis=0),\n",
    "                  distType,\n",
    "                  kernelType,\n",
    "                  windowType,\n",
    "                  windowsWidth)\n"
   ],
   "metadata": {
    "collapsed": false,
    "pycharm": {
     "name": "#%%\n"
    }
   }
  },
  {
   "cell_type": "code",
   "execution_count": 448,
   "outputs": [],
   "source": [
    "# calc micro f score\n",
    "def calc_f_score(confusion_matrix):\n",
    "    k = confusion_matrix.shape[0]\n",
    "\n",
    "    total_sum = sum(sum(confusion_matrix))\n",
    "\n",
    "    def calc_f(tp, fn, fp, tn):\n",
    "        p = tp + fn\n",
    "        n = fp + tn\n",
    "        rec = tp\n",
    "        pr = tp\n",
    "        if rec != 0:\n",
    "            rec = tp / p\n",
    "        if rec != 0:\n",
    "            pr = tp / (tp + fp)\n",
    "        if pr * rec == 0:\n",
    "            return 0\n",
    "        beta = 1\n",
    "        f = (1 + beta * beta) * (pr * rec) / (beta * beta * pr + rec)\n",
    "        return f\n",
    "\n",
    "    def calc(x):\n",
    "        tp = confusion_matrix[x][x]\n",
    "        fn = sum(confusion_matrix[x]) - tp\n",
    "        fp = sum(confusion_matrix.T[x]) - tp\n",
    "        tn = total_sum - fn - fp + tp\n",
    "\n",
    "        return calc_f(tp, fn, fp, tn)\n",
    "\n",
    "    r = 0\n",
    "    for i in range(k):\n",
    "        t = calc(i)\n",
    "        r += t * sum(confusion_matrix[i])\n",
    "    return r / total_sum"
   ],
   "metadata": {
    "collapsed": false,
    "pycharm": {
     "name": "#%%\n"
    }
   }
  },
  {
   "cell_type": "code",
   "execution_count": 449,
   "outputs": [],
   "source": [
    "def test_predict(X, Y, distType, kernelType, windowType, windowsWidth, addition_info=False):\n",
    "    confusion_matrix = np.zeros([3, 3])\n",
    "    for i in range(X.shape[0]):\n",
    "        answer = predict(X, Y, i, distType, kernelType, windowType, windowsWidth)\n",
    "        rounded_answer = int(round(answer))\n",
    "        real_answer = int(Y[i])\n",
    "        confusion_matrix[real_answer - 1][rounded_answer - 1] += 1\n",
    "\n",
    "    f_score = calc_f_score(confusion_matrix)\n",
    "    if addition_info:\n",
    "        print(confusion_matrix)\n",
    "        print(\"F-score\", f_score)\n",
    "    return f_score"
   ],
   "metadata": {
    "collapsed": false,
    "pycharm": {
     "name": "#%%\n"
    }
   }
  },
  {
   "cell_type": "code",
   "execution_count": 450,
   "outputs": [],
   "source": [
    "XX, YY = read_data()\n",
    "XX = normalize(XX)\n",
    "YY = YY.flatten()"
   ],
   "metadata": {
    "collapsed": false,
    "pycharm": {
     "name": "#%%\n"
    }
   }
  },
  {
   "cell_type": "code",
   "execution_count": 451,
   "outputs": [
    {
     "name": "stdout",
     "output_type": "stream",
     "text": [
      "[[59.  0.  0.]\n",
      " [ 3. 65.  3.]\n",
      " [ 0.  0. 48.]]\n",
      "F-score 0.9660128746456331\n"
     ]
    },
    {
     "data": {
      "text/plain": "0.9660128746456331"
     },
     "execution_count": 451,
     "metadata": {},
     "output_type": "execute_result"
    }
   ],
   "source": [
    "test_predict(XX, YY, 'euclidean', 'uniform', 'variable', 10, addition_info=True)\n"
   ],
   "metadata": {
    "collapsed": false,
    "pycharm": {
     "name": "#%%\n"
    }
   }
  },
  {
   "cell_type": "code",
   "execution_count": 452,
   "outputs": [],
   "source": [
    "def plot_f_score(distType, kernelType, windowType, values):\n",
    "    T = []\n",
    "    for i in values:\n",
    "        f_score = test_predict(XX, YY, distType, kernelType, windowType, i)\n",
    "        T.append((i, f_score))\n",
    "\n",
    "    plt.plot([x for x, y in T], [y for x, y in T])\n",
    "    plt.show()"
   ],
   "metadata": {
    "collapsed": false,
    "pycharm": {
     "name": "#%%\n"
    }
   }
  },
  {
   "cell_type": "code",
   "execution_count": 453,
   "outputs": [
    {
     "data": {
      "text/plain": "<Figure size 432x288 with 1 Axes>",
      "image/png": "[encoded data removed]"
     },
     "metadata": {},
     "output_type": "display_data"
    }
   ],
   "source": [
    "plot_f_score('euclidean', 'epanechnikov', 'variable', range(4, 50, 4))"
   ],
   "metadata": {
    "collapsed": false,
    "pycharm": {
     "name": "#%%\n"
    }
   }
  },
  {
   "cell_type": "code",
   "execution_count": 454,
   "outputs": [
    {
     "data": {
      "text/plain": "<Figure size 432x288 with 1 Axes>",
      "image/png": "[encoded data removed]"
     },
     "metadata": {},
     "output_type": "display_data"
    }
   ],
   "source": [
    "plot_f_score('euclidean', 'epanechnikov', 'fixed', map(lambda x: x/10, range(6, 12)))\n"
   ],
   "metadata": {
    "collapsed": false,
    "pycharm": {
     "name": "#%%\n"
    }
   }
  },
  {
   "cell_type": "code",
   "execution_count": 455,
   "outputs": [],
   "source": [
    "def draw_plot(dataset, datasetRes, feature1N, feature2N, target):\n",
    "    vine_class = {\n",
    "        1: \"g\",\n",
    "        2: \"b\",\n",
    "        3: \"y\"\n",
    "    }\n",
    "\n",
    "    colored = list(map(lambda x: vine_class[int(x)], datasetRes))\n",
    "    colored.append(\"r\")\n",
    "\n",
    "    x = list(dataset[:, feature1N])\n",
    "    y = list(dataset[:, feature2N])\n",
    "\n",
    "    x.append(target[feature1N])\n",
    "    y.append(target[feature2N])\n",
    "\n",
    "    plt.scatter(x, y, c=colored)\n",
    "    plt.show()\n"
   ],
   "metadata": {
    "collapsed": false,
    "pycharm": {
     "name": "#%%\n"
    }
   }
  },
  {
   "cell_type": "code",
   "execution_count": 456,
   "outputs": [],
   "source": [
    "def drawDot(ind, feature1N, feature2N, distType, kernelType, windowType, windowsWidth):\n",
    "    pr = predict(XX, YY, ind, distType, kernelType, windowType, windowsWidth)\n",
    "    draw_plot(np.delete(XX, (ind), axis=0),\n",
    "              np.delete(YY, (ind), axis=0),\n",
    "              feature1N,\n",
    "              feature2N,\n",
    "              XX[ind])\n",
    "    print('Predicted:', pr)\n",
    "    print('Real:', YY[ind])\n"
   ],
   "metadata": {
    "collapsed": false,
    "pycharm": {
     "name": "#%%\n"
    }
   }
  },
  {
   "cell_type": "code",
   "execution_count": 457,
   "outputs": [
    {
     "data": {
      "text/plain": "<Figure size 432x288 with 1 Axes>",
      "image/png": "[encoded data removed]"
     },
     "metadata": {},
     "output_type": "display_data"
    },
    {
     "name": "stdout",
     "output_type": "stream",
     "text": [
      "Predicted: 1\n",
      "Real: 1.0\n"
     ]
    }
   ],
   "source": [
    "drawDot(4, 2, 6, 'euclidean', 'epanechnikov', 'variable', 20)\n"
   ],
   "metadata": {
    "collapsed": false,
    "pycharm": {
     "name": "#%%\n"
    }
   }
  },
  {
   "cell_type": "code",
   "execution_count": 458,
   "outputs": [
    {
     "data": {
      "text/plain": "<Figure size 432x288 with 1 Axes>",
      "image/png": "[encoded data removed]"
     },
     "metadata": {},
     "output_type": "display_data"
    }
   ],
   "source": [
    "def _t(acc, elem):\n",
    "    if acc.get(elem) is None :\n",
    "        acc[elem] = 0\n",
    "    acc[elem] += 1\n",
    "    return acc\n",
    "\n",
    "D = functools.reduce(_t, YY.flatten(), {})\n",
    "\n",
    "\n",
    "plt.bar(range(len(D)), list(D.values()), align='center')\n",
    "plt.xticks(range(len(D)), list(D.keys()))\n",
    "\n",
    "plt.show()"
   ],
   "metadata": {
    "collapsed": false,
    "pycharm": {
     "name": "#%%\n"
    }
   }
  }
 ],
 "metadata": {
  "kernelspec": {
   "display_name": "Python 3",
   "language": "python",
   "name": "python3"
  },
  "language_info": {
   "codemirror_mode": {
    "name": "ipython",
    "version": 3
   },
   "file_extension": ".py",
   "mimetype": "text/x-python",
   "name": "python",
   "nbconvert_exporter": "python",
   "pygments_lexer": "ipython3",
   "version": "3.6.5"
  }
 },
 "nbformat": 4,
 "nbformat_minor": 1
}